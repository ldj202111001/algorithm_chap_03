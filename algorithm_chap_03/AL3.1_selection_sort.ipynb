{
 "cells": [
  {
   "cell_type": "markdown",
   "id": "09e92c5f",
   "metadata": {},
   "source": [
    "# 1)문제정의: \n",
    "  2차원 평면상에 n개의 점이 있다. 가장 인접한 쌍의 거리를 구하라."
   ]
  },
  {
   "cell_type": "markdown",
   "id": "fb0b530d",
   "metadata": {},
   "source": [
    "# 2)알고리즘 설명\n",
    "  1.일단, 두 좌표가 주어졌을 때, 두 점간의 거리를 구하는 함수를 구현한다.\n",
    "    (유클리드 거리공식 이용)\n",
    "  2.짝 지을 수 있는 모든 좌표들간의 거리를 계산하고 그 중에서 가장 짧은 것을 찾는다. (억지기법)\n",
    "  > 유클리드 거리공식\n",
    "  >>  (사진첨부)"
   ]
  },
  {
   "cell_type": "markdown",
   "id": "e467a81a",
   "metadata": {},
   "source": [
    "# 3)손으로 푼 예제"
   ]
  },
  {
   "cell_type": "markdown",
   "id": "cc1d07d1",
   "metadata": {},
   "source": [
    "# 4)알고리즘 개요 (설계)\n",
    "  \n"
   ]
  },
  {
   "cell_type": "markdown",
   "id": "1d9a3785",
   "metadata": {},
   "source": []
  },
  {
   "cell_type": "markdown",
   "id": "a28fcd75",
   "metadata": {},
   "source": [
    "# 5)알고리즘 코드:"
   ]
  },
  {
   "cell_type": "code",
   "execution_count": null,
   "id": "9b6264c1",
   "metadata": {},
   "outputs": [],
   "source": [
    "import math\n",
    "def distance(p1, p2):\n",
    "    return math.sqrt((p1[0] - p2[0]) ** 2 + (p1[1] - p2[1]) ** 2)"
   ]
  },
  {
   "cell_type": "code",
   "execution_count": null,
   "id": "b7e763b0",
   "metadata": {},
   "outputs": [],
   "source": [
    "def closest_pair(p):\n",
    "    n = len(p)\n",
    "    mindst = float(\"inf\")\n",
    "    for i in range(n-1):\n",
    "        for j in range(i+1, n):\n",
    "            dist = distance\n",
    "            if dist < mindist:\n",
    "                mindist = dist\n",
    "    return mindist"
   ]
  },
  {
   "cell_type": "code",
   "execution_count": null,
   "id": "9f22aa6e",
   "metadata": {},
   "outputs": [],
   "source": []
  },
  {
   "cell_type": "markdown",
   "id": "1631a871",
   "metadata": {},
   "source": []
  }
 ],
 "metadata": {
  "kernelspec": {
   "display_name": "Python 3 (ipykernel)",
   "language": "python",
   "name": "python3"
  },
  "language_info": {
   "codemirror_mode": {
    "name": "ipython",
    "version": 3
   },
   "file_extension": ".py",
   "mimetype": "text/x-python",
   "name": "python",
   "nbconvert_exporter": "python",
   "pygments_lexer": "ipython3",
   "version": "3.11.7"
  }
 },
 "nbformat": 4,
 "nbformat_minor": 5
}
