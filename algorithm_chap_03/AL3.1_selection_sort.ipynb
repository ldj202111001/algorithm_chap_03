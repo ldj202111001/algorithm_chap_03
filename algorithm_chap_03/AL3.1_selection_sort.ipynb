{
 "cells": [
  {
   "cell_type": "markdown",
   "id": "09e92c5f",
   "metadata": {},
   "source": [
    "# 1)문제정의: \n",
    "  2차원 평면상에 n개의 점이 있다. 가장 인접한 쌍의 거리를 구하라."
   ]
  },
  {
   "cell_type": "markdown",
   "id": "fb0b530d",
   "metadata": {},
   "source": [
    "# 2)알고리즘 설명\n",
    "  1.일단, 두 좌표가 주어졌을 때, 두 점간의 거리를 구하는 함수를 구현한다.\n",
    "    (유클리드 거리공식 이용)  \n",
    "  2.짝 지을 수 있는 모든 좌표들간의 거리를 계산하고 그 중에서 가장 짧은 것을 찾는다. (억지기법)\n",
    "  > 유클리드 거리공식\n",
    "  >>  ![alt text](image-1.png)"
   ]
  },
  {
   "cell_type": "markdown",
   "id": "e467a81a",
   "metadata": {},
   "source": [
    "# 3)손으로 푼 예제 (사진첨부)\n",
    "![alt text](image.png)"
   ]
  },
  {
   "cell_type": "markdown",
   "id": "cc1d07d1",
   "metadata": {},
   "source": [
    "# 4)알고리즘 개요 (설계)\n",
    "   1) 자료구조 정의\n",
    "\n",
    "      리스트 a:\n",
    "      이차함수의 점들을 리스트에 담는다.\n",
    "      a = [(x1, y1),  (x2, y2), ... ,  (xn, yn)] 의 형태이다.\n",
    "\n",
    "      정수형 mindist:\n",
    "      현재까지 구한 거리중 가장 짧은 거리의 변수이다.\n",
    "      처음에는 무한대로 초기화 한다.\n",
    "   \n",
    "   2) 함수 정의\n",
    "\n",
    "      distance(p1, p2):\n",
    "      매개변수: 점(x1, y1), 점(x2, y2) \n",
    "      기능: 유클리드 거리공식을 이용하여 이차함수의 두 점 간의 거리를 구한값을 반환한다.\n",
    "\n",
    "      closest_pair(p):\n",
    "      매개변수: 점들이 담긴 리스트\n",
    "      기능: 억지기법을 이용하여\n",
    "      \n",
    "      \n",
    "\n",
    "      \n"
   ]
  },
  {
   "cell_type": "markdown",
   "id": "a28fcd75",
   "metadata": {},
   "source": [
    "# 5)알고리즘 코드:"
   ]
  },
  {
   "cell_type": "code",
   "execution_count": 17,
   "id": "9b6264c1",
   "metadata": {},
   "outputs": [
    {
     "name": "stdout",
     "output_type": "stream",
     "text": [
      "1\n"
     ]
    }
   ],
   "source": [
    "import math\n",
    "\n",
    "def distance(p1, p2):\n",
    "    return math.sqrt((p1[0] - p2[0]) ** 2 + (p1[1] - p2[1]) ** 2)\n",
    "\n",
    "def closest_pair(p):\n",
    "    n = len(p)\n",
    "    mindist = float(\"inf\")\n",
    "    for i in range(n-1):\n",
    "        for j in range(i+1, n):\n",
    "            dist = distance(p[i], p[j])\n",
    "            if dist < mindist:\n",
    "                mindist = dist\n",
    "    return mindist\n",
    "\n",
    "a = [ (1, 0), (2, 0), (4, 12), (7, 21)]\n",
    "ans = closest_pair(a)\n",
    "print(int(ans))"
   ]
  },
  {
   "cell_type": "markdown",
   "id": "1631a871",
   "metadata": {},
   "source": []
  }
 ],
 "metadata": {
  "kernelspec": {
   "display_name": "Python 3 (ipykernel)",
   "language": "python",
   "name": "python3"
  },
  "language_info": {
   "codemirror_mode": {
    "name": "ipython",
    "version": 3
   },
   "file_extension": ".py",
   "mimetype": "text/x-python",
   "name": "python",
   "nbconvert_exporter": "python",
   "pygments_lexer": "ipython3",
   "version": "3.11.7"
  }
 },
 "nbformat": 4,
 "nbformat_minor": 5
}
