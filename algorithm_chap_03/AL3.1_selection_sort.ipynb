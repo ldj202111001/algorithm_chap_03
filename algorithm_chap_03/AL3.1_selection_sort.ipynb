{
 "cells": [
  {
   "cell_type": "code",
   "execution_count": 1,
   "id": "1b0b864e-ba8a-40ee-ba34-fbcfc20c7069",
   "metadata": {},
   "outputs": [
    {
     "name": "stdout",
     "output_type": "stream",
     "text": [
      "test\n"
     ]
    }
   ],
   "source": [
    "def closest_pair(p):\n",
    "    n = len(p)\n",
    "    mindst = float(\"inf\")\n",
    "    for i in range(n-1):\n",
    "        for j in range(i+1, n):\n",
    "            dist = distance\n",
    "            if dist < mindist:\n",
    "                mindist = dist\n",
    "    return mindist"
   ]
  },
  {
   "cell_type": "code",
   "execution_count": null,
   "id": "5b7d43bd-f665-4569-8170-c331aa36fcb5",
   "metadata": {},
   "outputs": [],
   "source": []
  }
 ],
 "metadata": {
  "kernelspec": {
   "display_name": "Python 3 (ipykernel)",
   "language": "python",
   "name": "python3"
  },
  "language_info": {
   "codemirror_mode": {
    "name": "ipython",
    "version": 3
   },
   "file_extension": ".py",
   "mimetype": "text/x-python",
   "name": "python",
   "nbconvert_exporter": "python",
   "pygments_lexer": "ipython3",
   "version": "3.11.7"
  }
 },
 "nbformat": 4,
 "nbformat_minor": 5
}
